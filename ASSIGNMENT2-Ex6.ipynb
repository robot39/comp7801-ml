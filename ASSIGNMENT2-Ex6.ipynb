{
 "cells": [
  {
   "cell_type": "raw",
   "metadata": {},
   "source": [
    "Programming Exercise 6: Neural Networks (with tensorflow)\n",
    "=========================================================\n",
    "\n",
    "As in Exercise 5, we are going to build a neural network with\n",
    "1) an input layer matching the size of our instance data (400 + the bias unit), \n",
    "2) a hidden layer with 25 units (26 with the bias unit), and \n",
    "3) an output layer with 10 units corresponding to our one-hot encoding for the class labels.\n",
    "\n",
    "However, we are going to use tensorflow this time.\n"
   ]
  },
  {
   "cell_type": "code",
   "execution_count": 1,
   "metadata": {
    "collapsed": true
   },
   "outputs": [],
   "source": [
    "# Run this cell to import all the libraries you need for this exercise\n",
    "import numpy as np\n",
    "import tensorflow as tf\n",
    "from scipy.io import loadmat\n"
   ]
  },
  {
   "cell_type": "code",
   "execution_count": 2,
   "metadata": {
    "collapsed": true,
    "scrolled": true
   },
   "outputs": [],
   "source": [
    "# Read in data\n",
    "data = loadmat('ex5data1.mat')"
   ]
  },
  {
   "cell_type": "code",
   "execution_count": 3,
   "metadata": {},
   "outputs": [
    {
     "name": "stdout",
     "output_type": "stream",
     "text": [
      "(5000, 400) (5000, 1)\n"
     ]
    }
   ],
   "source": [
    "X_data = data['X']  \n",
    "y_data = data['y']\n",
    "print(X_data.shape, y_data.shape)"
   ]
  },
  {
   "cell_type": "code",
   "execution_count": 4,
   "metadata": {},
   "outputs": [
    {
     "name": "stdout",
     "output_type": "stream",
     "text": [
      "[10] [0. 0. 0. 0. 0. 0. 0. 0. 0. 1.]\n"
     ]
    }
   ],
   "source": [
    "# Turn y into a one-hot vector format\n",
    "from sklearn.preprocessing import OneHotEncoder  \n",
    "encoder = OneHotEncoder(sparse=False)  \n",
    "y_onehot = encoder.fit_transform(y_data)\n",
    "\n",
    "# print one of the y[0] out\n",
    "print(y_data[0], y_onehot[0,:])"
   ]
  },
  {
   "cell_type": "code",
   "execution_count": 22,
   "metadata": {
    "collapsed": true
   },
   "outputs": [],
   "source": [
    "# FILL-IN: Define input x and corresponding correct answer y_ \n",
    "x = tf.placeholder(tf.float32, [None, 400], name='x') # m by s1\n",
    "y_ = tf.placeholder(tf.float32, [None, 10], name='y_')\n",
    "s1 = int(x.shape[1]) # number of features\n",
    "\n",
    "# FILL-IN: Define W1, b1, y1 of layer 1\n",
    "s2 = 25 # num of neuron in layer 2\n",
    "W1 = tf.Variable(tf.random_normal((s1, s2), stddev=1/np.sqrt(s1)), name=\"x1\")\n",
    "b1 = tf.Variable(tf.random_normal([s2], stddev=1/np.sqrt(s1)), name=\"b1\")\n",
    "y1 = x\n",
    "\n",
    "# FILL-IN: Define W2, b2, y2 of layer 2\n",
    "s3 = 10 # num of neuron in layer 3\n",
    "W2 = tf.Variable(tf.random_normal([s2, s3], stddev=1/np.sqrt(s1)), name=\"x2\")\n",
    "b2 = tf.Variable(tf.random_normal([s3], stddev=1/np.sqrt(s1)), name=\"b2\")\n",
    "z2 = tf.matmul( y1, W1 )\n",
    "y2 = tf.nn.sigmoid(z2 + b1)\n",
    "\n",
    "# FILL-IN: Define output y\n",
    "z3 = tf.matmul( y2, W2 )\n",
    "y = tf.nn.softmax(z3 + b2)\n",
    "\n",
    "# FILL-IN: Define cross_entropy and train_step\n",
    "cross_entropy = -tf.reduce_sum( y_*tf.log(y), 1 )\n",
    "loss = tf.reduce_mean(cross_entropy)\n",
    "train_step = tf.train.GradientDescentOptimizer(learning_rate=0.3).minimize(loss)\n"
   ]
  },
  {
   "cell_type": "code",
   "execution_count": 23,
   "metadata": {},
   "outputs": [
    {
     "name": "stdout",
     "output_type": "stream",
     "text": [
      "accuracy:  99.23999905586243 %\n"
     ]
    }
   ],
   "source": [
    "# Initializing the variables\n",
    "init = tf.global_variables_initializer()\n",
    "\n",
    "# Launch the graph\n",
    "with tf.Session() as sess:\n",
    "    sess.run(init)\n",
    "\n",
    "    for _ in range(10000):\n",
    "        sess.run(train_step, feed_dict={x: X_data, y_: y_onehot})\n",
    "\n",
    "    correct_prediction = tf.equal(tf.argmax(y,1), tf.argmax(y_,1))\n",
    "    accuracy = tf.reduce_mean(tf.cast(correct_prediction, tf.float32))\n",
    "    print('accuracy: ', sess.run(accuracy, feed_dict={x: X_data, y_: y_onehot})*100, '%')\n"
   ]
  },
  {
   "cell_type": "raw",
   "metadata": {},
   "source": [
    "CONGRATULATIONS - YOU ARE DONE WITH Exercise 6 !!!"
   ]
  }
 ],
 "metadata": {
  "kernelspec": {
   "display_name": "Python 3",
   "language": "python",
   "name": "python3"
  },
  "language_info": {
   "codemirror_mode": {
    "name": "ipython",
    "version": 3
   },
   "file_extension": ".py",
   "mimetype": "text/x-python",
   "name": "python",
   "nbconvert_exporter": "python",
   "pygments_lexer": "ipython3",
   "version": "3.6.4"
  }
 },
 "nbformat": 4,
 "nbformat_minor": 2
}
