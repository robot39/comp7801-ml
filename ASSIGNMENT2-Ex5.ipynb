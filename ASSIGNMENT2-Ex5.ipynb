{
 "cells": [
  {
   "cell_type": "raw",
   "metadata": {},
   "source": [
    "Programming Exercise 5: Neural Networks (without tensorflow)\n",
    "============================================================\n",
    "\n",
    "In this exercise, we are going to build a neural network with\n",
    "1) an input layer matching the size of our instance data (400 + the bias unit), \n",
    "2) a hidden layer with 25 units (26 with the bias unit), and \n",
    "3) an output layer with 10 units corresponding to our one-hot encoding for the class labels."
   ]
  },
  {
   "cell_type": "code",
   "execution_count": 1,
   "metadata": {
    "collapsed": true
   },
   "outputs": [],
   "source": [
    "# Run this cell to import all the libraries you need for this exercise\n",
    "import numpy as np\n",
    "import matplotlib.pyplot as plt\n",
    "from scipy.io import loadmat\n"
   ]
  },
  {
   "cell_type": "code",
   "execution_count": 2,
   "metadata": {
    "collapsed": true,
    "scrolled": true
   },
   "outputs": [],
   "source": [
    "# STEP 1: Read in data\n",
    "data = loadmat('ex5data1.mat')"
   ]
  },
  {
   "cell_type": "code",
   "execution_count": 3,
   "metadata": {},
   "outputs": [
    {
     "name": "stdout",
     "output_type": "stream",
     "text": [
      "(5000, 400) (5000, 1)\n"
     ]
    }
   ],
   "source": [
    "# Assuming m examples...\n",
    "# X should be a (m x 400)-matrix, each row containing the 400 features of an example\n",
    "# and y should be a (m x 1)-matrix containing the labels associated with the m examples\n",
    "\n",
    "X = data['X']  \n",
    "y = data['y']\n",
    "print(X.shape, y.shape)"
   ]
  },
  {
   "cell_type": "code",
   "execution_count": 20,
   "metadata": {},
   "outputs": [
    {
     "name": "stdout",
     "output_type": "stream",
     "text": [
      "[10] [0. 0. 0. 0. 0. 0. 0. 0. 0. 1.]\n"
     ]
    }
   ],
   "source": [
    "# Turn y into a one-hot vector format\n",
    "from sklearn.preprocessing import OneHotEncoder  \n",
    "encoder = OneHotEncoder(sparse=False)  \n",
    "y_onehot = encoder.fit_transform(y)\n",
    "\n",
    "# print one of the y's out, say y[0]\n",
    "print(y[0], y_onehot[0,:])"
   ]
  },
  {
   "cell_type": "code",
   "execution_count": 24,
   "metadata": {
    "collapsed": true
   },
   "outputs": [],
   "source": [
    "# standard sigmoid function\n",
    "def sigmoid(z):  \n",
    "    return 1 / (1 + np.exp(-z))\n",
    "\n",
    "# Forward propagation\n",
    "# Assuming:\n",
    "#   input_size = 400  (number of neurons in input layer, also number of features for each example)\n",
    "#   hidden_size = 25  (number of neurons in hidden layer)\n",
    "#   num_labels = 10   (number of neurons in output layer)\n",
    "# Inputs of the function:\n",
    "#   X       (m x 400)-matrix   containing the input examples\n",
    "#   theta1  (25 x 401)-matrix  containing the weights between the input layer of 401 neurons and the hidden layer of 25 neurons\n",
    "#   theta2  (10 x 26)-matrix   containing the weights between the hidden layer of 25 neurons and the output layer of 10 neurons\n",
    "# Outputs of the function\n",
    "#   a1      (m x 401)-matrix   essentially X with an additional column of 1s inserted as column 0\n",
    "#   z2      (m x 25)-matrix    contains a1 and theta1 multiplied together\n",
    "#   a2      (m x 26)-matrix    apply sigmoid function to z2 with an additional column of 1s inserted as column 0\n",
    "#   z3      (m x 10)-matrix    contains a2 and theta2 multiplied together\n",
    "#   h       (m x 10)-matrix    contains the result of applying sigmoid to z3\n",
    "def forward_propagate(X, theta1, theta2):  \n",
    "    m = X.shape[0]\n",
    "    a1 = np.hstack([ np.ones((m, 1)), X ])\n",
    "    z2 = np.matmul(a1, np.transpose(theta1))\n",
    "    a2 = np.hstack([ np.ones((m, 1)), sigmoid(z2) ])\n",
    "    z3 = np.matmul(a2, np.transpose(theta2))\n",
    "    h = sigmoid(z3)\n",
    "    return a1, z2, a2, z3, h\n",
    "\n",
    "# Cost function\n",
    "def cost(params, input_size, hidden_size, num_labels, X, y, learning_rate):  \n",
    "    m = X.shape[0]\n",
    "    X = np.matrix(X)\n",
    "    y = np.matrix(y)\n",
    "\n",
    "    # reshape the parameter array into parameter matrices for each layer\n",
    "    theta1 = np.matrix(np.reshape(params[:hidden_size * (input_size + 1)], (hidden_size, (input_size + 1))))\n",
    "    theta2 = np.matrix(np.reshape(params[hidden_size * (input_size + 1):], (num_labels, (hidden_size + 1))))\n",
    "\n",
    "    # run the feed-forward pass\n",
    "    a1, z2, a2, z3, h = forward_propagate(X, theta1, theta2)\n",
    "\n",
    "    # compute the cost\n",
    "    J = 0\n",
    "    for i in range(m):\n",
    "        first_term = np.multiply(-y[i,:], np.log(h[i,:]))\n",
    "        second_term = np.multiply((1 - y[i,:]), np.log(1 - h[i,:]))\n",
    "        J += np.sum(first_term - second_term)\n",
    "\n",
    "    J = J / m\n",
    "    \n",
    "    # Add regularization term\n",
    "    J += (float(learning_rate) / (2 * m)) * (np.sum(np.power(theta1[:,1:], 2)) + np.sum(np.power(theta2[:,1:], 2))) \n",
    "    \n",
    "    return J"
   ]
  },
  {
   "cell_type": "code",
   "execution_count": 25,
   "metadata": {},
   "outputs": [
    {
     "name": "stdout",
     "output_type": "stream",
     "text": [
      "(25, 401)  (10, 26)\n"
     ]
    }
   ],
   "source": [
    "# initial setup\n",
    "input_size = 400  \n",
    "hidden_size = 25  \n",
    "num_labels = 10  \n",
    "learning_rate = 1\n",
    "\n",
    "# randomly initialize a parameter array of the size of the full network's parameters\n",
    "params = (np.random.random(size=hidden_size * (input_size + 1) + num_labels * (hidden_size + 1)) - 0.5) * 0.25\n",
    "\n",
    "m = X.shape[0]  \n",
    "X = np.matrix(X)  \n",
    "y = np.matrix(y)\n",
    "\n",
    "# unravel the parameter array into parameter matrices for each layer\n",
    "theta1 = np.matrix(np.reshape(params[:hidden_size * (input_size + 1)], (hidden_size, (input_size + 1))))  \n",
    "theta2 = np.matrix(np.reshape(params[hidden_size * (input_size + 1):], (num_labels, (hidden_size + 1))))\n",
    "print(theta1.shape, '', theta2.shape)\n"
   ]
  },
  {
   "cell_type": "code",
   "execution_count": 26,
   "metadata": {},
   "outputs": [
    {
     "name": "stdout",
     "output_type": "stream",
     "text": [
      "(5000, 401) (5000, 25) (5000, 26) (5000, 10) (5000, 10)\n"
     ]
    }
   ],
   "source": [
    "a1, z2, a2, z3, h = forward_propagate(X, theta1, theta2)  \n",
    "print(a1.shape, z2.shape, a2.shape, z3.shape, h.shape)\n"
   ]
  },
  {
   "cell_type": "code",
   "execution_count": 27,
   "metadata": {},
   "outputs": [
    {
     "name": "stdout",
     "output_type": "stream",
     "text": [
      "7.062658812679908\n"
     ]
    }
   ],
   "source": [
    "print(cost(params, input_size, hidden_size, num_labels, X, y_onehot, learning_rate))\n"
   ]
  },
  {
   "cell_type": "code",
   "execution_count": 28,
   "metadata": {
    "collapsed": true
   },
   "outputs": [],
   "source": [
    "def sigmoid_gradient(z):  \n",
    "    return np.multiply(sigmoid(z), (1 - sigmoid(z)))\n",
    "\n",
    "def backprop(params, input_size, hidden_size, num_labels, X, y, learning_rate):  \n",
    "    ##### this section is identical to the cost function logic we already saw #####\n",
    "    m = X.shape[0]\n",
    "    X = np.matrix(X)\n",
    "    y = np.matrix(y)\n",
    "\n",
    "    # reshape the parameter array into parameter matrices for each layer\n",
    "    theta1 = np.matrix(np.reshape(params[:hidden_size * (input_size + 1)], (hidden_size, (input_size + 1))))\n",
    "    theta2 = np.matrix(np.reshape(params[hidden_size * (input_size + 1):], (num_labels, (hidden_size + 1))))\n",
    "\n",
    "    # run the feed-forward pass\n",
    "    a1, z2, a2, z3, h = forward_propagate(X, theta1, theta2)\n",
    "\n",
    "    # initializations\n",
    "    J = 0\n",
    "    delta1 = np.zeros(theta1.shape)  # (25, 401)\n",
    "    delta2 = np.zeros(theta2.shape)  # (10, 26)\n",
    "\n",
    "    # compute the cost\n",
    "    for i in range(m):\n",
    "        first_term = np.multiply(-y[i,:], np.log(h[i,:]))\n",
    "        second_term = np.multiply((1 - y[i,:]), np.log(1 - h[i,:]))\n",
    "        J += np.sum(first_term - second_term)\n",
    "\n",
    "    J = J / m\n",
    "\n",
    "    # add the cost regularization term\n",
    "    J += (float(learning_rate) / (2 * m)) * (np.sum(np.power(theta1[:,1:], 2)) + np.sum(np.power(theta2[:,1:], 2)))\n",
    "\n",
    "    ##### end of cost function logic, below is the new part #####\n",
    "\n",
    "    # backpropagation\n",
    "    # taking the examples one at a time\n",
    "    for t in range(m):\n",
    "        a1t = a1[t,:]  # (1, 401)\n",
    "        z2t = z2[t,:]  # (1, 25)\n",
    "        a2t = a2[t,:]  # (1, 26)\n",
    "        ht = h[t,:]  # (1, 10)\n",
    "        yt = y[t,:]  # (1, 10)\n",
    "\n",
    "        d3t = ht - yt  # (1, 10)\n",
    "\n",
    "        z2t = np.insert(z2t, 0, values=np.ones(1))  # (1, 26)\n",
    "        \n",
    "        #     d2t  (1 x 26)-matrix  containing deltas of the hidden layer\n",
    "        d2t = np.multiply( np.matmul(d3t, theta2), sigmoid_gradient(z2t) )\n",
    "\n",
    "        delta1 = delta1 + (d2t[:,1:]).T * a1t     # (25, 401)\n",
    "        delta2 = delta2 + d3t.T * a2t             # (10, 26)\n",
    "\n",
    "    delta1 = delta1 / m\n",
    "    delta2 = delta2 / m\n",
    "\n",
    "    # add the gradient regularization term\n",
    "    delta1[:,1:] = delta1[:,1:] + (theta1[:,1:] * learning_rate) / m\n",
    "    delta2[:,1:] = delta2[:,1:] + (theta2[:,1:] * learning_rate) / m\n",
    "\n",
    "    # unravel the gradient matrices into a single array\n",
    "    grad = np.concatenate((np.ravel(delta1), np.ravel(delta2)))\n",
    "\n",
    "    return J, grad"
   ]
  },
  {
   "cell_type": "code",
   "execution_count": 29,
   "metadata": {},
   "outputs": [
    {
     "name": "stdout",
     "output_type": "stream",
     "text": [
      "7.062658812679908 (10285,)\n"
     ]
    }
   ],
   "source": [
    "J, grad = backprop(params, input_size, hidden_size, num_labels, X, y_onehot, learning_rate)  \n",
    "print(J, grad.shape)\n"
   ]
  },
  {
   "cell_type": "code",
   "execution_count": 30,
   "metadata": {},
   "outputs": [
    {
     "name": "stdout",
     "output_type": "stream",
     "text": [
      "     fun: 0.3400304488143455\n",
      "     jac: array([-9.71332903e-04,  1.15439338e-07, -1.19716163e-07, ...,\n",
      "       -2.61070018e-05, -5.02251257e-05, -9.72975818e-05])\n",
      " message: 'Max. number of function evaluations reached'\n",
      "    nfev: 250\n",
      "     nit: 22\n",
      "  status: 3\n",
      " success: False\n",
      "       x: array([ 8.32211238e-01,  5.77196689e-04, -5.98580816e-04, ...,\n",
      "       -3.27946486e+00, -1.02354547e-01, -6.84224740e-02])\n"
     ]
    }
   ],
   "source": [
    "from scipy.optimize import minimize\n",
    "\n",
    "# minimize the objective function\n",
    "fmin = minimize(fun=backprop, x0=params, args=(input_size, hidden_size, num_labels, X, y_onehot, learning_rate),  \n",
    "                method='TNC', jac=True, options={'maxiter': 250})\n",
    "print(fmin)\n"
   ]
  },
  {
   "cell_type": "code",
   "execution_count": 31,
   "metadata": {},
   "outputs": [
    {
     "name": "stdout",
     "output_type": "stream",
     "text": [
      "[[10]\n",
      " [10]\n",
      " [10]\n",
      " ...\n",
      " [ 9]\n",
      " [ 9]\n",
      " [ 9]]\n"
     ]
    }
   ],
   "source": [
    "X = np.matrix(X)  \n",
    "theta1 = np.matrix(np.reshape(fmin.x[:hidden_size * (input_size + 1)], (hidden_size, (input_size + 1))))  \n",
    "theta2 = np.matrix(np.reshape(fmin.x[hidden_size * (input_size + 1):], (num_labels, (hidden_size + 1))))\n",
    "a1, z2, a2, z3, h = forward_propagate(X, theta1, theta2)  \n",
    "y_pred = np.array(np.argmax(h, axis=1) + 1)  \n",
    "print(y_pred)\n"
   ]
  },
  {
   "cell_type": "code",
   "execution_count": 32,
   "metadata": {},
   "outputs": [
    {
     "name": "stdout",
     "output_type": "stream",
     "text": [
      "accuracy =  99.32 %\n"
     ]
    }
   ],
   "source": [
    "correct = [1 if a == b else 0 for (a, b) in zip(y_pred, y)]  \n",
    "accuracy = (sum(map(int, correct)) / float(len(correct)))  \n",
    "print('accuracy = ', accuracy*100,'%')\n"
   ]
  },
  {
   "cell_type": "raw",
   "metadata": {},
   "source": [
    "CONGRATULATIONS - YOU ARE DONE WITH Exercise 5 !!!"
   ]
  }
 ],
 "metadata": {
  "kernelspec": {
   "display_name": "Python 3",
   "language": "python",
   "name": "python3"
  },
  "language_info": {
   "codemirror_mode": {
    "name": "ipython",
    "version": 3
   },
   "file_extension": ".py",
   "mimetype": "text/x-python",
   "name": "python",
   "nbconvert_exporter": "python",
   "pygments_lexer": "ipython3",
   "version": "3.6.4"
  }
 },
 "nbformat": 4,
 "nbformat_minor": 2
}
