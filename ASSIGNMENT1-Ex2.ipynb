{
 "cells": [
  {
   "cell_type": "raw",
   "metadata": {},
   "source": [
    "Programming Exercise 2: Linear Regression (with Tensorflow)\n",
    "===========================================================\n",
    "\n",
    "You will use tensorflow to solve the prediction problem of Exercise 1.\n"
   ]
  },
  {
   "cell_type": "code",
   "execution_count": 126,
   "metadata": {
    "collapsed": true
   },
   "outputs": [],
   "source": [
    "# Run this cell to import all the libraries you need for this exercise\n",
    "import numpy as np\n",
    "import matplotlib.pyplot as plt\n",
    "import tensorflow as tf\n"
   ]
  },
  {
   "cell_type": "code",
   "execution_count": 127,
   "metadata": {
    "collapsed": true
   },
   "outputs": [],
   "source": [
    "# STEP 1: Read in the data from 'ex1data1.txt'\n",
    "f = open('ex1data1.txt', 'r')\n",
    "x_list = []\n",
    "y_list = []\n",
    "\n",
    "for line in f:\n",
    "    x_str, y_str = line.split(',')\n",
    "    x_list.append(float(x_str))\n",
    "    y_list.append(float(y_str))\n",
    "\n",
    "m = len(x_list)\n",
    "x_data = np.array(x_list).reshape(m,1)\n",
    "y_data = np.array(y_list).reshape(m,1)\n",
    "data = np.c_[x_data,y_data]\n",
    "f.close()"
   ]
  },
  {
   "cell_type": "code",
   "execution_count": 128,
   "metadata": {
    "collapsed": true
   },
   "outputs": [],
   "source": [
    "# STEP 2: Create placeholders for X (Population of City) and Y (Profit)\n",
    "X = tf.placeholder(tf.float32, name=\"X\")\n",
    "Y = tf.placeholder(tf.float32, name=\"Y\")"
   ]
  },
  {
   "cell_type": "code",
   "execution_count": 129,
   "metadata": {
    "collapsed": true
   },
   "outputs": [],
   "source": [
    "# STEP 3: Create weight and bias, initialized to 0\n",
    "w = tf.Variable(0.0, name=\"weights\")\n",
    "b = tf.Variable(0.0, name=\"bias\")"
   ]
  },
  {
   "cell_type": "code",
   "execution_count": 130,
   "metadata": {
    "collapsed": true
   },
   "outputs": [],
   "source": [
    "# STEP 4: Construct model to predict Y (Profit) from X (Population of City)\n",
    "Y_predicted = X * w + b"
   ]
  },
  {
   "cell_type": "code",
   "execution_count": 131,
   "metadata": {
    "collapsed": true
   },
   "outputs": [],
   "source": [
    "# STEP 5: Use the square error as the loss function\n",
    "cost = tf.reduce_sum(tf.square(Y_predicted - Y))/(2*m)"
   ]
  },
  {
   "cell_type": "code",
   "execution_count": 132,
   "metadata": {
    "collapsed": true
   },
   "outputs": [],
   "source": [
    "# STEP 6: Use gradient descent with learning rate of 0.01 to minimize loss\n",
    "optimizer = tf.train.GradientDescentOptimizer(learning_rate=0.01).minimize(cost)"
   ]
  },
  {
   "cell_type": "code",
   "execution_count": 133,
   "metadata": {
    "collapsed": true,
    "scrolled": true
   },
   "outputs": [],
   "source": [
    "with tf.Session() as sess:\n",
    "    \n",
    "    # STEP 7: Initialize variables w and b\n",
    "    sess.run(tf.global_variables_initializer())\n",
    "    \n",
    "    # STEP 8: Train the model\n",
    "    for i in range(0,1500):\n",
    "        for x, y in data:\n",
    "            sess.run(optimizer, feed_dict={X:x,Y:y})\n",
    "    \n",
    "    # STEP 9: Obtain the values of w and b, cost and Y_predicted\n",
    "    w_value, b_value = sess.run([w,b])\n",
    "    cost_value = sess.run(cost, feed_dict={X: x_data, Y: y_data})\n",
    "    y_predicted = sess.run(Y_predicted, feed_dict={X: x_data, Y: y_data})"
   ]
  },
  {
   "cell_type": "code",
   "execution_count": 134,
   "metadata": {
    "scrolled": true
   },
   "outputs": [
    {
     "name": "stdout",
     "output_type": "stream",
     "text": [
      "b_value (previously theta_0) found by gradient descent:  -3.5883703\n",
      "w_value (previously theta_1) found by gradient descent:  1.1236651\n",
      "Cost:  4.546075\n"
     ]
    }
   ],
   "source": [
    "# print w_value and b_value and cost_value\n",
    "print('b_value (previously theta_0) found by gradient descent: ', b_value)\n",
    "print('w_value (previously theta_1) found by gradient descent: ', w_value)\n",
    "print('Cost: ', cost_value)"
   ]
  },
  {
   "cell_type": "code",
   "execution_count": 135,
   "metadata": {
    "scrolled": true
   },
   "outputs": [
    {
     "data": {
      "image/png": "[encoded data removed]",
      "text/plain": [
       "<matplotlib.figure.Figure at 0xd61696fe10>"
      ]
     },
     "metadata": {},
     "output_type": "display_data"
    }
   ],
   "source": [
    "# Plot the linear fit\n",
    "plt.xlabel('Population of City in 10,000s')\n",
    "plt.ylabel('Profit in $10,000s')\n",
    "plt.plot(x_data,y_data,marker='x',lw=0,color='r',label='Training data')\n",
    "plt.plot(x_data,y_predicted,linestyle='-',color='b',label='Linear regression line')\n",
    "plt.legend()\n",
    "plt.show()"
   ]
  },
  {
   "cell_type": "code",
   "execution_count": 136,
   "metadata": {
    "scrolled": false
   },
   "outputs": [
    {
     "name": "stdout",
     "output_type": "stream",
     "text": [
      "For population = 35,000, we predict a profit of: 3444.575071334839\n",
      "For population = 70,000, we predict a profit of: 42772.8533744812\n"
     ]
    }
   ],
   "source": [
    "# Predict values for population sizes of 35,000 and 70,000\n",
    "predict1 = w_value * 3.5 + b_value\n",
    "print('For population = 35,000, we predict a profit of:', predict1*10000);\n",
    "predict2 = w_value * 7 + b_value\n",
    "print('For population = 70,000, we predict a profit of:', predict2*10000);"
   ]
  },
  {
   "cell_type": "raw",
   "metadata": {},
   "source": [
    "CONGRATULATIONS - YOU HAVE COMPLETED Exercise 2 !!!!"
   ]
  }
 ],
 "metadata": {
  "kernelspec": {
   "display_name": "Python 3",
   "language": "python",
   "name": "python3"
  },
  "language_info": {
   "codemirror_mode": {
    "name": "ipython",
    "version": 3
   },
   "file_extension": ".py",
   "mimetype": "text/x-python",
   "name": "python",
   "nbconvert_exporter": "python",
   "pygments_lexer": "ipython3",
   "version": "3.6.4"
  }
 },
 "nbformat": 4,
 "nbformat_minor": 2
}
