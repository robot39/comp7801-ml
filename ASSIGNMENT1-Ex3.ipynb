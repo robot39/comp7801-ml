{
 "cells": [
  {
   "cell_type": "raw",
   "metadata": {},
   "source": [
    "Programming Exercise 3: Logistic Regression (without tensorflow)\n",
    "================================================================\n",
    "\n",
    "ACKNOWLEDGMENT: This exercise is based on an exercise in Andrew Ng's course.\n",
    "\n",
    "In this exercise, you will write the code for the following functions:\n",
    "   Sigmoid\n",
    "   CostFunction\n",
    "   Gradient\n",
    "   Predict"
   ]
  },
  {
   "cell_type": "code",
   "execution_count": 1,
   "metadata": {
    "collapsed": true,
    "scrolled": false
   },
   "outputs": [],
   "source": [
    "# Run this cell to import all the libraries you need for this exercise\n",
    "import numpy as np\n",
    "import matplotlib.pyplot as plt\n",
    "import scipy.optimize as opt\n"
   ]
  },
  {
   "cell_type": "raw",
   "metadata": {},
   "source": [
    "======== STEP 1: Read in data points and plot the data =========="
   ]
  },
  {
   "cell_type": "code",
   "execution_count": 2,
   "metadata": {},
   "outputs": [
    {
     "name": "stdout",
     "output_type": "stream",
     "text": [
      "Plotting data with + indicating (y = 1) examples and o indicating (y = 0) examples\n"
     ]
    },
    {
     "data": {
      "image/png": "[encoded data removed]",
      "text/plain": [
       "<matplotlib.figure.Figure at 0x7c9c607f0>"
      ]
     },
     "metadata": {},
     "output_type": "display_data"
    }
   ],
   "source": [
    "# File 'ex2data1.txt' contains data in 3 columns\n",
    "# Columns 1 and 2 are exam scores\n",
    "# Column 3 is the label\n",
    "\n",
    "f = open('ex2data1.txt', 'r')\n",
    "x1_list = []\n",
    "x2_list = []\n",
    "y_list = []\n",
    "\n",
    "for line in f:\n",
    "    x1_str, x2_str, y_str = line.split(',')\n",
    "    x1_list.append(float(x1_str))\n",
    "    x2_list.append(float(x2_str))\n",
    "    y_list.append(float(y_str))\n",
    "\n",
    "# Let's now plot the data\n",
    "    \n",
    "print('Plotting data with + indicating (y = 1) examples and o indicating (y = 0) examples')\n",
    "\n",
    "for i in range(0,len(y_list)):\n",
    "    if y_list[i] == 1:\n",
    "        plt.plot(x1_list[i],x2_list[i],'b+',linewidth=0)\n",
    "    else:\n",
    "        plt.plot(x1_list[i],x2_list[i],'ro',linewidth=0)\n",
    "plt.xlabel('Exam 1 score')\n",
    "plt.ylabel('Exam 2 score')\n",
    "plt.show()"
   ]
  },
  {
   "cell_type": "raw",
   "metadata": {},
   "source": [
    "======== STEP 2: Compute Cost and Gradient =========="
   ]
  },
  {
   "cell_type": "code",
   "execution_count": 3,
   "metadata": {
    "collapsed": true,
    "scrolled": true
   },
   "outputs": [],
   "source": [
    "# Set up X, y and initial_theta\n",
    "x1 = np.matrix(x1_list).reshape(len(x1_list),1)\n",
    "x2 = np.matrix(x2_list).reshape(len(x2_list),1)\n",
    "y = np.matrix(y_list).reshape(len(y_list),1)\n",
    "X = np.c_[np.ones(len(x1_list)),x1,x2]\n",
    "initial_theta = np.zeros(3)"
   ]
  },
  {
   "cell_type": "code",
   "execution_count": 16,
   "metadata": {},
   "outputs": [
    {
     "name": "stdout",
     "output_type": "stream",
     "text": [
      "Cost at initial theta (zeros):  0.6931471805599453\n",
      "Gradient at initial theta (zeros): \n",
      "[ -0.1        -12.00921659 -11.26284221]\n"
     ]
    }
   ],
   "source": [
    "def sigmoid(z):\n",
    "    # \n",
    "    # INSTRUCTIONS:\n",
    "    # Write the code for sigmoid\n",
    "    #\n",
    "    # ====================== YOUR CODE HERE ======================\n",
    "    return 1/(1+np.exp(-z))\n",
    "\n",
    "def CostFunction(theta, X, y):\n",
    "    # \n",
    "    # INSTRUCTIONS:\n",
    "    # Write the code for CostFunction, which is a function that returns\n",
    "    # the cost of using theta as the parameter of the logistic regression\n",
    "    #\n",
    "    # ====================== YOUR CODE HERE ======================\n",
    "    H = sigmoid( np.dot(X, np.transpose(theta) ) )\n",
    "    J = np.sum( np.dot(np.log(H), y) + np.log(1-H).dot(1-y)) / (-len(y))\n",
    "    \n",
    "    # ============================================================\n",
    "    return J\n",
    "\n",
    "def Gradient(theta, X, y):\n",
    "    # \n",
    "    # INSTRUCTIONS:\n",
    "    # Write the code for Gradient, which is a function that computes\n",
    "    # the gradient  of the cost with respect to the parameters\n",
    "    # using theta as the parameter of the logistic regression\n",
    "    # \n",
    "    # ====================== YOUR CODE HERE ======================\n",
    "    \n",
    "    \n",
    "    H = sigmoid( np.dot(X, np.transpose(theta) ) )\n",
    "    grad = np.dot( np.transpose(X), (y - np.transpose(H)) ) / (-len(y))\n",
    "    grad = np.array(grad.transpose().tolist()[0])\n",
    "    # ============================================================\n",
    "    return grad\n",
    "\n",
    "# Compute and display initial cost and gradient\n",
    "print('Cost at initial theta (zeros): ', CostFunction(initial_theta,X,y))\n",
    "print('Gradient at initial theta (zeros): ')\n",
    "print(Gradient(initial_theta,X,y))\n",
    "                             "
   ]
  },
  {
   "cell_type": "raw",
   "metadata": {},
   "source": [
    "======== STEP 3: Run Optimization Function =========="
   ]
  },
  {
   "cell_type": "code",
   "execution_count": 7,
   "metadata": {
    "scrolled": true
   },
   "outputs": [
    {
     "name": "stdout",
     "output_type": "stream",
     "text": [
      "Cost at theta:  0.20349770158947472\n",
      "theta: \n",
      "[-25.16131857   0.20623159   0.20147149]\n"
     ]
    }
   ],
   "source": [
    "# Run optimize function\n",
    "initial_theta = np.zeros(3)\n",
    "result = opt.minimize(fun=CostFunction,x0=initial_theta,args=(X,y),method='TNC',jac=Gradient)\n",
    "print('Cost at theta: ', CostFunction(result.x,X,y))\n",
    "print('theta: ')\n",
    "print(result.x)"
   ]
  },
  {
   "cell_type": "raw",
   "metadata": {},
   "source": [
    "======== STEP 4: Make Predictions =========="
   ]
  },
  {
   "cell_type": "code",
   "execution_count": 8,
   "metadata": {},
   "outputs": [
    {
     "name": "stdout",
     "output_type": "stream",
     "text": [
      "For a student with scores 45 and 85, we predict an admission probability of  [[0.77629062]]\n"
     ]
    }
   ],
   "source": [
    "# Predict probability that a student with score 45 on exam 1 \n",
    "# and score 85 on exam 2 will be admitted\n",
    "theta_min = np.matrix(result.x).reshape(3,1)\n",
    "prob = sigmoid(np.matmul(np.matrix('1 45 85'),theta_min))\n",
    "print('For a student with scores 45 and 85, we predict an admission probability of ', prob)\n"
   ]
  },
  {
   "cell_type": "code",
   "execution_count": 14,
   "metadata": {
    "scrolled": false
   },
   "outputs": [
    {
     "name": "stdout",
     "output_type": "stream",
     "text": [
      "Accuracy of predictions:  89 %\n"
     ]
    }
   ],
   "source": [
    "def Predict(theta, X):\n",
    "    # \n",
    "    # INSTRUCTIONS:\n",
    "    # Write the code for Predict, which is a function that returns\n",
    "    # a (m x 1)-matrix of the 0's and 1's representing the predictions\n",
    "    # \n",
    "    # ====================== YOUR CODE HERE ======================\n",
    "    # \n",
    "    H = sigmoid(np.dot(X, theta))\n",
    "    pred = 1*(H>=0.5)\n",
    "    pred = pred.transpose()\n",
    "    return pred\n",
    "\n",
    "# Compute accuracy on our training set\n",
    "p = Predict(theta_min, X)\n",
    "print('Accuracy of predictions: ', np.sum(np.equal(p,y_list)),'%')\n"
   ]
  },
  {
   "cell_type": "raw",
   "metadata": {},
   "source": [
    "CONGRATULATIONS - YOU HAVE COMPLETED Exercise 3 !!!"
   ]
  }
 ],
 "metadata": {
  "kernelspec": {
   "display_name": "Python 3",
   "language": "python",
   "name": "python3"
  },
  "language_info": {
   "codemirror_mode": {
    "name": "ipython",
    "version": 3
   },
   "file_extension": ".py",
   "mimetype": "text/x-python",
   "name": "python",
   "nbconvert_exporter": "python",
   "pygments_lexer": "ipython3",
   "version": "3.6.4"
  }
 },
 "nbformat": 4,
 "nbformat_minor": 2
}
